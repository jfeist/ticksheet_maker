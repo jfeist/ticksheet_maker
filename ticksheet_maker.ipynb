{
 "cells": [
  {
   "cell_type": "code",
   "execution_count": 1,
   "id": "3de18e57-15e6-4e29-bac3-14ce6a1ebdc4",
   "metadata": {
    "execution": {
     "iopub.execute_input": "2025-01-29T15:09:26.722644Z",
     "iopub.status.busy": "2025-01-29T15:09:26.722286Z",
     "iopub.status.idle": "2025-01-29T15:09:27.928740Z",
     "shell.execute_reply": "2025-01-29T15:09:27.928292Z",
     "shell.execute_reply.started": "2025-01-29T15:09:26.722617Z"
    }
   },
   "outputs": [],
   "source": [
    "import pandas as pd\n",
    "from openpyxl.utils import get_column_letter\n",
    "from openpyxl.styles import Alignment, Border, Side\n",
    "\n",
    "import solara\n",
    "import ipywidgets as ipw\n",
    "from io import BytesIO"
   ]
  },
  {
   "cell_type": "code",
   "execution_count": 4,
   "id": "3f2fc608-4a0a-4bc0-96a6-de5468945df3",
   "metadata": {
    "execution": {
     "iopub.execute_input": "2025-01-29T15:10:20.669390Z",
     "iopub.status.busy": "2025-01-29T15:10:20.667573Z",
     "iopub.status.idle": "2025-01-29T15:10:20.689360Z",
     "shell.execute_reply": "2025-01-29T15:10:20.687929Z",
     "shell.execute_reply.started": "2025-01-29T15:10:20.669306Z"
    }
   },
   "outputs": [],
   "source": [
    "def read_button_excel(button):\n",
    "    return pd.read_excel(BytesIO(button.value[0][\"content\"]))\n",
    "\n",
    "def get_ticksheet():\n",
    "    students = read_button_excel(upload_students)\n",
    "    students = students[[\"Apellido(s)\",\"Nombre\",\"Grupo\"]]\n",
    "\n",
    "    df = read_button_excel(upload_encuesta)\n",
    "    df = df[[\"Apellido(s)\",\"Nombre\",\"Consulta\"]]\n",
    "    df[\"Apellido(s)\"] = df[\"Apellido(s)\"].str.strip()\n",
    "    df[\"Nombre\"] = df[\"Nombre\"].str.strip()\n",
    "    df.insert(3,\"val\",\"X\")\n",
    "    df = df.pivot(index=[\"Apellido(s)\",\"Nombre\"], columns='Consulta', values=\"val\").reset_index()\n",
    "    \n",
    "    assert set(df[\"Apellido(s)\"]) - set(students[\"Apellido(s)\"]) - set([\"Merino Troncoso\"]) == set()\n",
    "    \n",
    "    df = pd.merge(students,df,\"left\").fillna(\"\")\n",
    "    \n",
    "    side_thin = Side(border_style=\"thin\")\n",
    "    side_med = Side(border_style=\"medium\")\n",
    "\n",
    "    outbytes = BytesIO()\n",
    "    with pd.ExcelWriter(outbytes) as writer:\n",
    "        for grupo in df.Grupo.unique():\n",
    "            gdf = df[df.Grupo==grupo].drop(\"Grupo\",axis=1)\n",
    "            gdf.to_excel(writer,index=False,sheet_name=str(grupo))\n",
    "    \n",
    "            # adjust column widths and horizontal alignments\n",
    "            worksheet = writer.sheets[str(grupo)]\n",
    "            for idx, col in enumerate(gdf):\n",
    "                max_len = max((gdf[col].astype(str).map(len).max(), len(col))) + 1\n",
    "                col_lett = get_column_letter(idx+1)\n",
    "                worksheet.column_dimensions[col_lett].width = max_len\n",
    "                worksheet[\"A1\"].alignment = Alignment(horizontal='left')\n",
    "                worksheet[\"B1\"].alignment = Alignment(horizontal='left')\n",
    "                for irow, cell in enumerate(worksheet[col_lett]):\n",
    "                    if idx>=2: # ticks\n",
    "                        cell.alignment = Alignment(horizontal='center')\n",
    "                    if irow==0:\n",
    "                        cell.border = Border(left=side_thin,right=side_thin,top=side_thin,bottom=side_med)\n",
    "                    elif irow==1:\n",
    "                        cell.border = Border(left=side_thin,right=side_thin,top=side_med,bottom=side_thin)\n",
    "                    else:\n",
    "                        cell.border = Border(left=side_thin,right=side_thin,top=side_thin,bottom=side_thin)\n",
    "            worksheet.print_area = f'A1:{col_lett}{irow+1}'\n",
    "    return outbytes.getvalue()"
   ]
  },
  {
   "cell_type": "code",
   "execution_count": 5,
   "id": "5031b60f-edaa-4812-8b8e-7809d926ddfd",
   "metadata": {
    "execution": {
     "iopub.execute_input": "2025-01-29T15:10:47.103140Z",
     "iopub.status.busy": "2025-01-29T15:10:47.102606Z",
     "iopub.status.idle": "2025-01-29T15:10:47.197521Z",
     "shell.execute_reply": "2025-01-29T15:10:47.197175Z",
     "shell.execute_reply.started": "2025-01-29T15:10:47.103087Z"
    }
   },
   "outputs": [
    {
     "data": {
      "application/vnd.jupyter.widget-view+json": {
       "model_id": "148aedc5d4384e64b556e97514860fa0",
       "version_major": 2,
       "version_minor": 0
      },
      "text/plain": [
       "FileUpload(value=(), description='Upload students', layout=Layout(width='200px'))"
      ]
     },
     "metadata": {},
     "output_type": "display_data"
    },
    {
     "data": {
      "application/vnd.jupyter.widget-view+json": {
       "model_id": "83fdc2d614ec45a78f0ca62e2a087b55",
       "version_major": 2,
       "version_minor": 0
      },
      "text/plain": [
       "FileUpload(value=(), description='Upload encuesta', layout=Layout(width='200px'))"
      ]
     },
     "metadata": {},
     "output_type": "display_data"
    },
    {
     "data": {
      "application/vnd.jupyter.widget-view+json": {
       "model_id": "151fa1aeb3444f4ba5485068188f5a4f",
       "version_major": 2,
       "version_minor": 0
      },
      "text/html": [
       "Cannot show widget. You probably want to rerun the code cell above (<i>Click in the code cell, and press Shift+Enter <kbd>⇧</kbd>+<kbd>↩</kbd></i>)."
      ],
      "text/plain": [
       "Cannot show ipywidgets in text"
      ]
     },
     "metadata": {},
     "output_type": "display_data"
    }
   ],
   "source": [
    "upload_students = ipw.FileUpload(description=\"Upload students\",layout=dict(width='200px'))\n",
    "upload_encuesta = ipw.FileUpload(description=\"Upload encuesta\",layout=dict(width='200px'))\n",
    "download = solara.FileDownload(data=get_ticksheet, label=\"Download ticksheet\", filename=\"ticksheet.xlsx\")\n",
    "display(upload_students, upload_encuesta, download)"
   ]
  }
 ],
 "metadata": {
  "kernelspec": {
   "display_name": "Python 3 (ipykernel)",
   "language": "python",
   "name": "python3"
  },
  "language_info": {
   "codemirror_mode": {
    "name": "ipython",
    "version": 3
   },
   "file_extension": ".py",
   "mimetype": "text/x-python",
   "name": "python",
   "nbconvert_exporter": "python",
   "pygments_lexer": "ipython3",
   "version": "3.13.1"
  }
 },
 "nbformat": 4,
 "nbformat_minor": 5
}
